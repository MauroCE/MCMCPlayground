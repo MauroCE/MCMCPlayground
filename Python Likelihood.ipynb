{
 "cells": [
  {
   "cell_type": "markdown",
   "metadata": {},
   "source": [
    "# Check Likelihood Works"
   ]
  },
  {
   "cell_type": "code",
   "execution_count": 1,
   "metadata": {},
   "outputs": [],
   "source": [
    "from subprocess import check_output\n",
    "from math import log"
   ]
  },
  {
   "cell_type": "code",
   "execution_count": 2,
   "metadata": {},
   "outputs": [
    {
     "data": {
      "text/plain": [
       "-41.194280018629705"
      ]
     },
     "execution_count": 2,
     "metadata": {},
     "output_type": "execute_result"
    }
   ],
   "source": [
    "# First element of the list is the command I want to execute, all the other elements are arguments\n",
    "command = [\"./is_moments\", \"growing/gtree_file1\", \"1\", \"5000\", \"paramfile\", \"1\"]\n",
    "# Notice we can't run something like \"cd SimulationCode; ./is_moments \" etc because cd is a shell internal.\n",
    "# Instead, we change directory just before executing the program \n",
    "# https://stackoverflow.com/questions/21406887/subprocess-changing-directory\n",
    "loglike = log(float(check_output(command, cwd=\"SimulationCode/\")))\n",
    "loglike"
   ]
  },
  {
   "cell_type": "markdown",
   "metadata": {},
   "source": [
    "# Check Likelihood can be Imported"
   ]
  },
  {
   "cell_type": "code",
   "execution_count": 3,
   "metadata": {},
   "outputs": [],
   "source": [
    "from SimulationCode.likelihood_functions import site_loglike"
   ]
  },
  {
   "cell_type": "code",
   "execution_count": 4,
   "metadata": {},
   "outputs": [
    {
     "data": {
      "text/plain": [
       "-41.083141482300874"
      ]
     },
     "execution_count": 4,
     "metadata": {},
     "output_type": "execute_result"
    }
   ],
   "source": [
    "import numpy as np\n",
    "params = np.array([4.605170000000000, 2.995732000000000, -2.302585000000000])\n",
    "site_loglike(1, params)"
   ]
  },
  {
   "cell_type": "markdown",
   "metadata": {},
   "source": [
    "# Metropolis-Hastings"
   ]
  },
  {
   "cell_type": "markdown",
   "metadata": {},
   "source": [
    "Choose a Gaussian Proposal.\n",
    "\n",
    "$$\n",
    "\\alpha(\\theta_{\\text{cand}}, \\theta^{(i-1)}) = \\min\\left\\{1, \\frac{q(\\theta^{(i-1)} \\mid \\theta_{\\text{cand}}) \\pi(\\theta_{\\text{cand}} \\mid D)}{q(\\theta_{\\text{cand}} \\mid \\theta^{(i-1)}) \\pi(\\theta^{(i-1)} \\mid D)}\\right\\} = \\min\\left\\{1, \\frac{q(\\theta^{(i-1)} \\mid \\theta_{\\text{cand}}) p(D \\mid \\theta_{\\text{cand}}) \\pi\n",
    "(\\theta_{\\text{cand}})}{q(\\theta_{\\text{cand}} \\mid \\theta^{(i-1)}) p(D \\mid \\theta^{(i-1)}) \\pi(\\theta^{(i-1)})}\\right\\}\n",
    "$$\n",
    "\n",
    "In the log scale this becomes\n",
    "\n",
    "$$\n",
    "\\min\\left\\{0, \\log q(\\theta^{(i-1)} \\mid \\theta_{\\text{cand}}) + \\log p(D \\mid \\theta_{\\text{cand}}) + \\log \\pi\n",
    "(\\theta_{\\text{cand}}) - \\log \\right\\}\n",
    "$$"
   ]
  },
  {
   "cell_type": "code",
   "execution_count": 10,
   "metadata": {},
   "outputs": [],
   "source": [
    "from numpy.random import normal\n",
    "from scipy.stats import norm\n",
    "q = norm(loc=0.0, scale=1.0)"
   ]
  },
  {
   "cell_type": "code",
   "execution_count": null,
   "metadata": {},
   "outputs": [],
   "source": []
  }
 ],
 "metadata": {
  "kernelspec": {
   "display_name": "Python 3",
   "language": "python",
   "name": "python3"
  },
  "language_info": {
   "codemirror_mode": {
    "name": "ipython",
    "version": 3
   },
   "file_extension": ".py",
   "mimetype": "text/x-python",
   "name": "python",
   "nbconvert_exporter": "python",
   "pygments_lexer": "ipython3",
   "version": "3.7.4"
  }
 },
 "nbformat": 4,
 "nbformat_minor": 4
}
