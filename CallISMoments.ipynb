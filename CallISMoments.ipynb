{
 "cells": [
  {
   "cell_type": "code",
   "execution_count": 42,
   "metadata": {},
   "outputs": [],
   "source": [
    "from subprocess import check_output\n",
    "from math import log"
   ]
  },
  {
   "cell_type": "code",
   "execution_count": 43,
   "metadata": {},
   "outputs": [
    {
     "data": {
      "text/plain": [
       "-40.74413049422305"
      ]
     },
     "execution_count": 43,
     "metadata": {},
     "output_type": "execute_result"
    }
   ],
   "source": [
    "# First element of the list is the command I want to execute, all the other elements are arguments\n",
    "command = [\"./is_moments\", \"growing/gtree_file1\", \"1\", \"5000\", \"paramfile\", \"1\"]\n",
    "# Notice we can't run something like \"cd SimulationCode; ./is_moments \" etc because cd is a shell internal.\n",
    "# Instead, we change directly\n",
    "out = log(float(check_output(command, cwd=\"SimulationCode/\")))\n",
    "out"
   ]
  },
  {
   "cell_type": "code",
   "execution_count": null,
   "metadata": {},
   "outputs": [],
   "source": []
  }
 ],
 "metadata": {
  "kernelspec": {
   "display_name": "Python 3",
   "language": "python",
   "name": "python3"
  },
  "language_info": {
   "codemirror_mode": {
    "name": "ipython",
    "version": 3
   },
   "file_extension": ".py",
   "mimetype": "text/x-python",
   "name": "python",
   "nbconvert_exporter": "python",
   "pygments_lexer": "ipython3",
   "version": "3.7.4"
  }
 },
 "nbformat": 4,
 "nbformat_minor": 2
}
